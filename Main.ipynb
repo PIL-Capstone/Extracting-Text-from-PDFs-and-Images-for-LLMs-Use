{
 "cells": [
  {
   "cell_type": "markdown",
   "metadata": {},
   "source": [
    "**Using PDF Parsing Libraries**\n",
    "\n",
    "Several Python libraries such as PyPDF2, pdfplumber, and pdfminer allow extracting text from PDFs. PyPDF2 provides a simple way to extract all text from a PDF."
   ]
  },
  {
   "cell_type": "code",
   "execution_count": null,
   "metadata": {},
   "outputs": [],
   "source": [
    "import PyPDF2\n",
    "\n",
    "pdfFile = open('document.pdf', 'rb')\n",
    "pdfReader = PyPDF2.PdfFileReader(pdfFile)\n",
    "\n",
    "text = \"\"\n",
    "for page in range(pdfReader.numPages):\n",
    "    pageObj = pdfReader.getPage(page)\n",
    "    text += pageObj.extractText()"
   ]
  },
  {
   "cell_type": "markdown",
   "metadata": {},
   "source": [
    "**Using pdfplumber Library**\n",
    "The pdfplumber library can extract text more cleanly by identifying text blocks:"
   ]
  },
  {
   "cell_type": "code",
   "execution_count": null,
   "metadata": {},
   "outputs": [],
   "source": [
    "import pdfplumber\n",
    "\n",
    "with pdfplumber.open('document.pdf') as pdf:\n",
    "    pages = pdf.pages\n",
    "    for page in pages:\n",
    "        text = page.extract_text()"
   ]
  },
  {
   "cell_type": "markdown",
   "metadata": {},
   "source": [
    "**Using Google Cloud Vision API**\n",
    "Google Cloud Vision provides advanced OCR capability to extract text from scanned PDFs. First, we need to convert each page of the PDF to an image. Then the Vision API can detect text in each image:"
   ]
  },
  {
   "cell_type": "code",
   "execution_count": null,
   "metadata": {},
   "outputs": [],
   "source": [
    "from google.cloud import vision\n",
    "import io\n",
    "from PIL import Image\n",
    "\n",
    "client = vision.ImageAnnotatorClient()\n",
    "\n",
    "with open('scanned.pdf', 'rb') as pdf:\n",
    "    pages = convert_from_bytes(pdf.read())\n",
    "\n",
    "full_text = \"\"\n",
    "for page in pages:\n",
    "   image = vision.Image(content=page.tobytes)\n",
    "   response = client.document_text_detection(image=image)\n",
    "   full_text += response.text"
   ]
  },
  {
   "cell_type": "markdown",
   "metadata": {},
   "source": [
    "**Extracting Text from Images**\n",
    "We can also extract text embedded in image files like JPEGs and PNGs using similar OCR techniques:\n",
    "\n",
    "**Using Google Cloud Vision API**\n",
    "The Cloud Vision API provides a simple text_detection method to extract text from images:"
   ]
  },
  {
   "cell_type": "code",
   "execution_count": null,
   "metadata": {},
   "outputs": [],
   "source": [
    "response = client.text_detection(image=image)\n",
    "text = response.text"
   ]
  },
  {
   "cell_type": "markdown",
   "metadata": {},
   "source": [
    "**Using OpenCV and Tesseract OCR**\n",
    "OpenCV can be used to detect text regions in an image. Then Tesseract OCR can extract text from those regions:"
   ]
  },
  {
   "cell_type": "code",
   "execution_count": null,
   "metadata": {},
   "outputs": [],
   "source": [
    "import pytesseract\n",
    "import cv2\n",
    "\n",
    "img = cv2.imread('image.jpg')\n",
    "\n",
    "# Detect text regions\n",
    "rects = detector(img)\n",
    "\n",
    "# Extract text from regions\n",
    "text = \"\"\n",
    "for rect in rects:\n",
    "   x, y, w, h = rect\n",
    "   text += pytesseract.image_to_string(img[y:y+h, x:x+w])"
   ]
  }
 ],
 "metadata": {
  "language_info": {
   "name": "python"
  }
 },
 "nbformat": 4,
 "nbformat_minor": 2
}
